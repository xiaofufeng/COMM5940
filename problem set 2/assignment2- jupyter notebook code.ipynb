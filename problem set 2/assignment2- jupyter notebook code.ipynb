{
 "cells": [
  {
   "cell_type": "markdown",
   "metadata": {},
   "source": [
    "<h1>Parsing data via beautiful soup</h1>"
   ]
  },
  {
   "cell_type": "code",
   "execution_count": 2,
   "metadata": {},
   "outputs": [
    {
     "name": "stdout",
     "output_type": "stream",
     "text": [
      "adidas neo CHAOS 休闲鞋\n",
      "¥729\n",
      "NMD_R1 经典鞋\n",
      "¥1399\n",
      "SUPERSTAR W 经典鞋\n",
      "¥899\n",
      "SUPERSTAR 经典鞋\n",
      "¥799\n",
      "ARKYN W 经典鞋\n",
      "¥1199\n",
      "Superstar Slip On W 经典鞋\n",
      "¥729¥799\n",
      "SUPERSTAR 经典鞋\n",
      "¥799\n",
      "adidas neo LITE RACER RBN 休闲鞋\n",
      "¥599\n",
      "adidas neo LITE RACER RBN 休闲鞋\n",
      "¥599\n",
      "PureBOOST GO W 跑步鞋\n",
      "¥999\n",
      "adidas neo QT RACER 休闲鞋\n",
      "¥529\n",
      "adidas neo LITE RACER CLN 休闲鞋\n",
      "¥569\n",
      "adidas neo ULTIMAMOTION 休闲鞋\n",
      "¥669\n",
      "adidas neo ULTIMAMOTION 休闲鞋\n",
      "¥669\n",
      "adidas neo VS ADVANTAGE CL 休闲鞋\n",
      "¥569\n",
      "UltraBOOST X 3.D. S. 跑步鞋\n",
      "¥1799\n",
      "SOLAR DRIVE W 跑步鞋\n",
      "¥899\n",
      "STAN SMITH W 经典鞋\n",
      "¥899\n",
      "SUPERSTAR 80s 经典鞋\n",
      "¥999\n"
     ]
    }
   ],
   "source": [
    "import requests\n",
    "import csv\n",
    "from bs4 import BeautifulSoup\n",
    "\n",
    "quote_page = requests.get('https://www.adidas.com.cn/women_shoes') \n",
    "soup = BeautifulSoup(quote_page.content,'html.parser')\n",
    "data = []\n",
    "for article in soup.find_all('div',class_='good-box'): \n",
    "    name = article.a.span.text\n",
    "    price=article.div.p.text\n",
    "    \n",
    "    print (name)\n",
    "    print(price)\n",
    "    \n",
    "    \n",
    "    data.append((name, price))\n",
    "   \n",
    "    with open('adidas.csv', 'w') as csv_file:\n",
    "        writer = csv.writer(csv_file)\n",
    "        header = ['name','price'] \n",
    "        writer.writerow(header)\n",
    "        for name, price in data: \n",
    "            writer.writerow([name, price])"
   ]
  },
  {
   "cell_type": "code",
   "execution_count": null,
   "metadata": {},
   "outputs": [],
   "source": []
  }
 ],
 "metadata": {
  "kernelspec": {
   "display_name": "Python 3",
   "language": "python",
   "name": "python3"
  },
  "language_info": {
   "codemirror_mode": {
    "name": "ipython",
    "version": 3
   },
   "file_extension": ".py",
   "mimetype": "text/x-python",
   "name": "python",
   "nbconvert_exporter": "python",
   "pygments_lexer": "ipython3",
   "version": "3.7.1"
  }
 },
 "nbformat": 4,
 "nbformat_minor": 2
}
